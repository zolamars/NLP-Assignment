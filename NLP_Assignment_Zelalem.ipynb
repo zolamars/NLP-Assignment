{
  "cells": [
    {
      "cell_type": "markdown",
      "id": "Z5n8BVh_Yr9Q",
      "metadata": {
        "id": "Z5n8BVh_Yr9Q"
      },
      "source": [
        "# Natural Language Processing (NLP) Assignment\n",
        "This assignment will guide you through the basic concepts of Natural Language Processing including:\n",
        "- Text preprocessing\n",
        "- Tokenization and N-grams\n",
        "- Named Entity Recognition (NER)\n",
        "- Converting text into numbers (vectorization)\n",
        "- Word embeddings (for experienced learners)\n",
        "\n",
        "You can run and modify the code cells below to complete the tasks."
      ]
    },
    {
      "cell_type": "code",
      "execution_count": null,
      "id": "iCF3KD-EYr9S",
      "metadata": {
        "id": "iCF3KD-EYr9S"
      },
      "outputs": [],
      "source": [
        "# Import required libraries\n",
        "import nltk\n",
        "import spacy\n",
        "from sklearn.feature_extraction.text import CountVectorizer, TfidfVectorizer\n",
        "import matplotlib.pyplot as plt\n",
        "from wordcloud import WordCloud\n",
        "import numpy as np\n",
        "import pandas as pd\n",
        "nltk.download('punkt')\n",
        "nltk.download('averaged_perceptron_tagger')\n",
        "nltk.download('maxent_ne_chunker')\n",
        "nltk.download('words')\n",
        "nltk.download('stopwords')\n",
        "from nltk.corpus import stopwords\n",
        "from nltk.tokenize import word_tokenize\n",
        "from nltk import ngrams\n",
        "nlp = spacy.load(\"en_core_web_sm\")"
      ]
    },
    {
      "cell_type": "markdown",
      "id": "DEsF_R2lYr9U",
      "metadata": {
        "id": "DEsF_R2lYr9U"
      },
      "source": [
        "## 1. Text Preprocessing\n",
        "Clean the following text by converting it to lowercase, removing punctuation and stop words."
      ]
    },
    {
      "cell_type": "code",
      "execution_count": null,
      "id": "HP7-LkEdYr9U",
      "metadata": {
        "id": "HP7-LkEdYr9U"
      },
      "outputs": [],
      "source": [
        "import string # Required for punctuation handling\n",
        "\n",
        "# Sample text\n",
        "text = \"Natural Language Processing is a fascinating field. It combines linguistics and computer science!\"\n",
        "\n",
        "def preprocess(text):\n",
        "    # Convert to lowercase\n",
        "    text = text.lower()\n",
        "    # Tokenize into individual words\n",
        "    tokens = word_tokenize(text)\n",
        "    # Load English stopwords\n",
        "    stop_words = set(stopwords.words('english'))\n",
        "    # Remove punctuation and stopwords\n",
        "    cleaned_tokens = [\n",
        "        token\n",
        "        for token in tokens\n",
        "        if token not in stop_words and token not in string.punctuation\n",
        "    ]\n",
        "    return cleaned_tokens\n",
        "\n",
        "cleaned_tokens = preprocess(text)\n",
        "print(\"Cleaned Tokens:\", cleaned_tokens)"
      ]
    },
    {
      "cell_type": "markdown",
      "id": "cGccz4YaYr9U",
      "metadata": {
        "id": "cGccz4YaYr9U"
      },
      "source": [
        "## 2. Tokenization and N-grams\n",
        "Generate bigrams (2-grams) from the cleaned tokens."
      ]
    },
    {
      "cell_type": "code",
      "execution_count": null,
      "id": "FoIq0pfbYr9V",
      "metadata": {
        "colab": {
          "base_uri": "https://localhost:8080/",
          "height": 193
        },
        "id": "FoIq0pfbYr9V",
        "outputId": "f347fb2d-7121-4b2e-fef1-80364b177382"
      },
      "outputs": [],
      "source": [
        "from nltk import ngrams\n",
        "\n",
        "# Generate bigrams\n",
        "bigrams = list(ngrams(cleaned_tokens, 2))\n",
        "print(\"Bigrams:\", bigrams)"
      ]
    },
    {
      "cell_type": "markdown",
      "id": "rPkUW6XbYr9V",
      "metadata": {
        "id": "rPkUW6XbYr9V"
      },
      "source": [
        "## 3. Named Entity Recognition (NER)\n",
        "Use spaCy to perform NER on a new sentence."
      ]
    },
    {
      "cell_type": "code",
      "execution_count": null,
      "id": "vpwmRm8zYr9V",
      "metadata": {
        "id": "vpwmRm8zYr9V"
      },
      "outputs": [],
      "source": [
        "# Example sentence\n",
        "sentence = \"Barack Obama was born in Hawaii and was elected president in 2008.\"\n",
        "doc = nlp(sentence)\n",
        "\n",
        "# Extract entities\n",
        "print(\"Named Entities:\")\n",
        "for ent in doc.ents:\n",
        "    print(f\"{ent.text} -> {ent.label_}\")"
      ]
    },
    {
      "cell_type": "markdown",
      "id": "jpyGaIFpYr9V",
      "metadata": {
        "id": "jpyGaIFpYr9V"
      },
      "source": [
        "## 4. Converting Text to Numbers\n",
        "Use CountVectorizer and TfidfVectorizer to convert a list of sentences into numeric vectors."
      ]
    },
    {
      "cell_type": "code",
      "execution_count": null,
      "id": "jKlvJ-EeYr9W",
      "metadata": {
        "id": "jKlvJ-EeYr9W"
      },
      "outputs": [],
      "source": [
        "sentences = [\n",
        "    \"I love machine learning.\",\n",
        "    \"Natural language processing is a part of AI.\",\n",
        "    \"AI is the future.\"\n",
        "]\n",
        "# Initialize and fit the vectorizer\n",
        "count_vec = CountVectorizer()\n",
        "X_count = count_vec.fit_transform(sentences)\n",
        "\n",
        "# Show results\n",
        "print(\"Count Vectorizer Output:\")\n",
        "print(\"Vocabulary:\", count_vec.get_feature_names_out())\n",
        "print(\"Matrix:\\n\", X_count.toarray())\n",
        "\n",
        "# Initialize and fit the vectorizer\n",
        "tfidf_vec = TfidfVectorizer()\n",
        "X_tfidf = tfidf_vec.fit_transform(sentences)\n",
        "\n",
        "# Show results\n",
        "print(\"\\nTF-IDF Vectorizer Output:\")\n",
        "print(\"Vocabulary:\", tfidf_vec.get_feature_names_out())\n",
        "print(\"Matrix:\\n\", X_tfidf.toarray())"
      ]
    },
    {
      "cell_type": "markdown",
      "id": "BH4UNmZxYr9W",
      "metadata": {
        "id": "BH4UNmZxYr9W"
      },
      "source": [
        "## 5. Word Embeddings (Advanced)\n",
        "Use spaCy to get word vectors (embeddings) for given words."
      ]
    },
    {
      "cell_type": "code",
      "execution_count": null,
      "id": "VoJQ7aDjYr9W",
      "metadata": {
        "id": "VoJQ7aDjYr9W"
      },
      "outputs": [],
      "source": [
        "# Note: en_core_web_sm does not have word vectors. You can install and use en_core_web_md\n",
        "# Uncomment below to install and load the medium model if needed.\n",
        "# !python -m spacy download en_core_web_md\n",
        "# nlp = spacy.load(\"en_core_web_md\")\n",
        "\n",
        "# Load the medium model\n",
        "nlp = spacy.load(\"en_core_web_md\")\n",
        "\n",
        "# Get vector for the word \"machine\"\n",
        "word = nlp(\"machine\")[0]\n",
        "print(\"Vector for 'machine':\\n\", word.vector)"
      ]
    }
  ],
  "metadata": {
    "colab": {
      "provenance": []
    },
    "kernelspec": {
      "display_name": "Python 3",
      "language": "python",
      "name": "python3"
    },
    "language_info": {
      "name": "python",
      "version": "3.8"
    }
  },
  "nbformat": 4,
  "nbformat_minor": 5
}
